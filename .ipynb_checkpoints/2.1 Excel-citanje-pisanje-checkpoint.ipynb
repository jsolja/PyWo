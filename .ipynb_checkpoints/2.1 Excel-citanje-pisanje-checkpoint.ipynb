{
 "cells": [
  {
   "cell_type": "code",
   "execution_count": 3,
   "metadata": {
    "collapsed": true
   },
   "outputs": [],
   "source": [
    "filename = \"../../03/pywo_some_data.xlsx\""
   ]
  },
  {
   "cell_type": "markdown",
   "metadata": {},
   "source": [
    "**Zadatak**\n",
    "\n",
    "a)Otvoriti ovaj excel file i procitati prvi stupac.\n",
    "\n",
    "Za to nam treba modul ```xlrd```.\n",
    "\n",
    "b) Srediti polja (razdvojiti ime i prezime)\n",
    "\n",
    "c) Sortirali na 2 nacina\n",
    "\n",
    "d) DZ, zavjezbu izbaciti \",\" pomocu ```re```"
   ]
  },
  {
   "cell_type": "code",
   "execution_count": 4,
   "metadata": {
    "collapsed": false
   },
   "outputs": [],
   "source": [
    "import xlrd"
   ]
  },
  {
   "cell_type": "code",
   "execution_count": 5,
   "metadata": {
    "collapsed": false
   },
   "outputs": [
    {
     "name": "stdout",
     "output_type": "stream",
     "text": [
      "(0) empty \n",
      "(1) text Josip Mlakar, \n",
      "(2) text Elvis Popović, \n",
      "(3) text Vladimir Milašinović, \n",
      "(4) text Filip Rafajec, \n",
      "(5) text Matej Gucek, \n",
      "(6) text Jura Šolja, \n",
      "(7) text Gabrijela Grgača, \n",
      "(8) text Stjepan Rakarec, \n",
      "(9) text Davorin Špičko, \n",
      "(10) text Milan Pavlović, \n",
      "(11) text Senko Pušec, \n",
      "(12) text Filip Aleksić, \n",
      "(13) text Roman Tomašković, \n",
      "(14) text Peđa Čačić, \n",
      "(15) text Saša Poslončec,\n",
      "(16) text Mislav Zebić, \n",
      "(17) text Ian Žonja,\n",
      "(18) text Tomislav Cundić, \n",
      "(19) text Matija Kaniški,\n",
      "(20) text Petar Šestak,\n",
      "(21) text Ivana Završki,\n",
      "(22) text Vedran Vađunec, \n",
      "(23) text Matea Bodulušić, \n",
      "(24) text Andrea Danzante,\n"
     ]
    }
   ],
   "source": [
    "wb = xlrd.open_workbook(\"../../03/pywo_some_data.xlsx\")\n",
    "sheetname = wb.sheet_names() \n",
    "xl_sheet = wb.sheet_by_name(sheetname[0])\n",
    "xl_sheet = wb.sheet_by_index(0)\n",
    "\n",
    "row = xl_sheet.row(0)\n",
    "col = xl_sheet.col(0)\n",
    "\n",
    "from xlrd.sheet import ctype_text   \n",
    "\n",
    "for idx, cell_obj in enumerate(col):\n",
    "    cell_type_str = ctype_text.get(cell_obj.ctype, 'unknown type')\n",
    "    print('(%s) %s %s' % (idx, cell_type_str, cell_obj.value))"
   ]
  },
  {
   "cell_type": "code",
   "execution_count": 6,
   "metadata": {
    "collapsed": false
   },
   "outputs": [
    {
     "data": {
      "text/plain": [
       "[empty:'',\n",
       " text:'Josip Mlakar, ',\n",
       " text:'Elvis Popović, ',\n",
       " text:'Vladimir Milašinović, ',\n",
       " text:'Filip Rafajec, ',\n",
       " text:'Matej Gucek, ',\n",
       " text:'Jura Šolja, ',\n",
       " text:'Gabrijela Grgača, ',\n",
       " text:'Stjepan Rakarec, ',\n",
       " text:'Davorin Špičko, ',\n",
       " text:'Milan Pavlović, ',\n",
       " text:'Senko Pušec, ',\n",
       " text:'Filip Aleksić, ',\n",
       " text:'Roman Tomašković, ',\n",
       " text:'Peđa Čačić, ',\n",
       " text:'Saša Poslončec,',\n",
       " text:'Mislav Zebić, ',\n",
       " text:'Ian Žonja,',\n",
       " text:'Tomislav Cundić, ',\n",
       " text:'Matija Kaniški,',\n",
       " text:'Petar Šestak,',\n",
       " text:'Ivana Završki,',\n",
       " text:'Vedran Vađunec, ',\n",
       " text:'Matea Bodulušić, ',\n",
       " text:'Andrea Danzante,']"
      ]
     },
     "execution_count": 6,
     "metadata": {},
     "output_type": "execute_result"
    }
   ],
   "source": [
    "wb = xlrd.open_workbook(\"../../03/pywo_some_data.xlsx\")\n",
    "\n",
    "sheet = wb.sheet_by_index(0)\n",
    "sheet.col(0)\n"
   ]
  },
  {
   "cell_type": "code",
   "execution_count": 7,
   "metadata": {
    "collapsed": false
   },
   "outputs": [
    {
     "data": {
      "text/plain": [
       "['',\n",
       " 'Josip Mlakar, ',\n",
       " 'Elvis Popović, ',\n",
       " 'Vladimir Milašinović, ',\n",
       " 'Filip Rafajec, ',\n",
       " 'Matej Gucek, ',\n",
       " 'Jura Šolja, ',\n",
       " 'Gabrijela Grgača, ',\n",
       " 'Stjepan Rakarec, ',\n",
       " 'Davorin Špičko, ',\n",
       " 'Milan Pavlović, ',\n",
       " 'Senko Pušec, ',\n",
       " 'Filip Aleksić, ',\n",
       " 'Roman Tomašković, ',\n",
       " 'Peđa Čačić, ',\n",
       " 'Saša Poslončec,',\n",
       " 'Mislav Zebić, ',\n",
       " 'Ian Žonja,',\n",
       " 'Tomislav Cundić, ',\n",
       " 'Matija Kaniški,',\n",
       " 'Petar Šestak,',\n",
       " 'Ivana Završki,',\n",
       " 'Vedran Vađunec, ',\n",
       " 'Matea Bodulušić, ',\n",
       " 'Andrea Danzante,']"
      ]
     },
     "execution_count": 7,
     "metadata": {},
     "output_type": "execute_result"
    }
   ],
   "source": [
    "L = [student.value for student in sheet.col(0)]\n",
    "L"
   ]
  },
  {
   "cell_type": "code",
   "execution_count": 8,
   "metadata": {
    "collapsed": false
   },
   "outputs": [
    {
     "data": {
      "text/plain": [
       "['Josip Mlakar, ',\n",
       " 'Elvis Popović, ',\n",
       " 'Vladimir Milašinović, ',\n",
       " 'Filip Rafajec, ',\n",
       " 'Matej Gucek, ',\n",
       " 'Jura Šolja, ',\n",
       " 'Gabrijela Grgača, ',\n",
       " 'Stjepan Rakarec, ',\n",
       " 'Davorin Špičko, ',\n",
       " 'Milan Pavlović, ',\n",
       " 'Senko Pušec, ',\n",
       " 'Filip Aleksić, ',\n",
       " 'Roman Tomašković, ',\n",
       " 'Peđa Čačić, ',\n",
       " 'Saša Poslončec,',\n",
       " 'Mislav Zebić, ',\n",
       " 'Ian Žonja,',\n",
       " 'Tomislav Cundić, ',\n",
       " 'Matija Kaniški,',\n",
       " 'Petar Šestak,',\n",
       " 'Ivana Završki,',\n",
       " 'Vedran Vađunec, ',\n",
       " 'Matea Bodulušić, ',\n",
       " 'Andrea Danzante,']"
      ]
     },
     "execution_count": 8,
     "metadata": {},
     "output_type": "execute_result"
    }
   ],
   "source": [
    "M = [ x for x in L if x != '']\n",
    "M"
   ]
  },
  {
   "cell_type": "markdown",
   "metadata": {},
   "source": [
    "Sredimo ovu listu u format \"prezime ime\". \n",
    "\n",
    "Zatim treba sortirati."
   ]
  },
  {
   "cell_type": "code",
   "execution_count": 112,
   "metadata": {
    "collapsed": true
   },
   "outputs": [],
   "source": [
    "import re"
   ]
  },
  {
   "cell_type": "code",
   "execution_count": 9,
   "metadata": {
    "collapsed": true
   },
   "outputs": [],
   "source": [
    "ime = 'Josip Mlakar, '"
   ]
  },
  {
   "cell_type": "code",
   "execution_count": 130,
   "metadata": {
    "collapsed": true
   },
   "outputs": [],
   "source": [
    "def sredi(ime):\n",
    "    v = ime.strip()\n",
    "    \n",
    "    v = re.sub('[,]', '', ime)\n",
    "    \n",
    "    listica = v.split()\n",
    "    \n",
    "    \n",
    "    return listica[::-1]"
   ]
  },
  {
   "cell_type": "code",
   "execution_count": 116,
   "metadata": {
    "collapsed": false
   },
   "outputs": [
    {
     "data": {
      "text/plain": [
       "['Mlakar', 'Josip']"
      ]
     },
     "execution_count": 116,
     "metadata": {},
     "output_type": "execute_result"
    }
   ],
   "source": [
    "sredi(ime)"
   ]
  },
  {
   "cell_type": "code",
   "execution_count": 117,
   "metadata": {
    "collapsed": false
   },
   "outputs": [],
   "source": [
    "P = [ sredi(ime) for ime in M ]"
   ]
  },
  {
   "cell_type": "code",
   "execution_count": 118,
   "metadata": {
    "collapsed": false,
    "scrolled": false
   },
   "outputs": [
    {
     "data": {
      "text/plain": [
       "[['Danzante', 'Andrea'],\n",
       " ['Špičko', 'Davorin'],\n",
       " ['Popović', 'Elvis'],\n",
       " ['Rafajec', 'Filip'],\n",
       " ['Aleksić', 'Filip'],\n",
       " ['Grgača', 'Gabrijela'],\n",
       " ['Žonja', 'Ian'],\n",
       " ['Završki', 'Ivana'],\n",
       " ['Mlakar', 'Josip'],\n",
       " ['Šolja', 'Jura'],\n",
       " ['Bodulušić', 'Matea'],\n",
       " ['Gucek', 'Matej'],\n",
       " ['Kaniški', 'Matija'],\n",
       " ['Pavlović', 'Milan'],\n",
       " ['Zebić', 'Mislav'],\n",
       " ['Šestak', 'Petar'],\n",
       " ['Čačić', 'Peđa'],\n",
       " ['Tomašković', 'Roman'],\n",
       " ['Poslončec', 'Saša'],\n",
       " ['Pušec', 'Senko'],\n",
       " ['Rakarec', 'Stjepan'],\n",
       " ['Cundić', 'Tomislav'],\n",
       " ['Vađunec', 'Vedran'],\n",
       " ['Milašinović', 'Vladimir']]"
      ]
     },
     "execution_count": 118,
     "metadata": {},
     "output_type": "execute_result"
    }
   ],
   "source": [
    "fja_usporedbe = lambda x:x[1]\n",
    "sorted(P, key = lambda x:x[1])"
   ]
  },
  {
   "cell_type": "code",
   "execution_count": 119,
   "metadata": {
    "collapsed": true
   },
   "outputs": [],
   "source": [
    "sorted?"
   ]
  },
  {
   "cell_type": "code",
   "execution_count": 120,
   "metadata": {
    "collapsed": false
   },
   "outputs": [],
   "source": [
    "lambda x:x[1]\n",
    "\n",
    "def f(x):\n",
    "    return x[1]"
   ]
  },
  {
   "cell_type": "code",
   "execution_count": 94,
   "metadata": {
    "collapsed": true
   },
   "outputs": [],
   "source": [
    "!git add *.ipynb"
   ]
  },
  {
   "cell_type": "code",
   "execution_count": 95,
   "metadata": {
    "collapsed": false
   },
   "outputs": [
    {
     "name": "stdout",
     "output_type": "stream",
     "text": [
      "[master da1f528] Notebook za citanje excela\r\n",
      " 1 file changed, 384 insertions(+)\r\n",
      " create mode 100644 zadaci/my/jura_solja/Excel-citanje.ipynb\r\n"
     ]
    }
   ],
   "source": [
    "!git commit -a -m \"Notebook za citanje excela\""
   ]
  },
  {
   "cell_type": "code",
   "execution_count": null,
   "metadata": {
    "collapsed": false
   },
   "outputs": [
    {
     "name": "stdout",
     "output_type": "stream",
     "text": [
      "remote: Counting objects: 12, done.\u001b[K\n",
      "remote: Compressing objects: 100% (6/6), done.\u001b[K\n",
      "remote: Total 12 (delta 6), reused 12 (delta 6), pack-reused 0\u001b[K\n",
      "Unpacking objects: 100% (12/12), done.\n",
      "From https://github.com/marcelix/pywo-zadaci\n",
      "   2ff5d52..df4b455  master     -> origin/master\n",
      "\u001b[46A"
     ]
    }
   ],
   "source": [
    "!git pull"
   ]
  },
  {
   "cell_type": "code",
   "execution_count": null,
   "metadata": {
    "collapsed": true
   },
   "outputs": [],
   "source": [
    "!git pull origin master"
   ]
  },
  {
   "cell_type": "code",
   "execution_count": null,
   "metadata": {
    "collapsed": true
   },
   "outputs": [],
   "source": [
    "!ls -a"
   ]
  },
  {
   "cell_type": "code",
   "execution_count": 127,
   "metadata": {
    "collapsed": false
   },
   "outputs": [],
   "source": [
    "import xlwt"
   ]
  },
  {
   "cell_type": "code",
   "execution_count": 128,
   "metadata": {
    "collapsed": true
   },
   "outputs": [],
   "source": [
    "P = sorted(P)"
   ]
  },
  {
   "cell_type": "code",
   "execution_count": 129,
   "metadata": {
    "collapsed": false
   },
   "outputs": [],
   "source": [
    "book = xlwt.Workbook()\n",
    "sheet1 = book.add_sheet(\"Sheet1\")\n",
    "\n",
    "for i, l in enumerate(P):\n",
    "    for j, col in enumerate(l):\n",
    "        sheet1.write(i, j, col)\n",
    "\n",
    "book.save(\"2.1 Zapis u excel.xls\")"
   ]
  },
  {
   "cell_type": "code",
   "execution_count": null,
   "metadata": {
    "collapsed": true
   },
   "outputs": [],
   "source": []
  }
 ],
 "metadata": {
  "kernelspec": {
   "display_name": "Python 3",
   "language": "python",
   "name": "python3"
  },
  "language_info": {
   "codemirror_mode": {
    "name": "ipython",
    "version": 3
   },
   "file_extension": ".py",
   "mimetype": "text/x-python",
   "name": "python",
   "nbconvert_exporter": "python",
   "pygments_lexer": "ipython3",
   "version": "3.4.3"
  }
 },
 "nbformat": 4,
 "nbformat_minor": 0
}
