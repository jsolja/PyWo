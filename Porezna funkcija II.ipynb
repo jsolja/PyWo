{
 "cells": [
  {
   "cell_type": "code",
   "execution_count": 61,
   "metadata": {
    "collapsed": true
   },
   "outputs": [],
   "source": [
    "stope = (0.1, 0.2)\n",
    "limiti = (100000, None)"
   ]
  },
  {
   "cell_type": "code",
   "execution_count": 62,
   "metadata": {
    "collapsed": true
   },
   "outputs": [],
   "source": [
    "stope = (0.1, 0.2, 0.3)\n",
    "limiti = (100000, 200000, None)"
   ]
  },
  {
   "cell_type": "code",
   "execution_count": 63,
   "metadata": {
    "collapsed": false
   },
   "outputs": [
    {
     "name": "stdout",
     "output_type": "stream",
     "text": [
      "Automatic pdb calling has been turned OFF\n"
     ]
    }
   ],
   "source": [
    "import pdb\n",
    "%pdb off"
   ]
  },
  {
   "cell_type": "code",
   "execution_count": 86,
   "metadata": {
    "collapsed": false
   },
   "outputs": [],
   "source": [
    "import logging\n",
    "\n",
    "logger = logging.getLogger()\n",
    "logger.setLevel(logging.DEBUG)"
   ]
  },
  {
   "cell_type": "code",
   "execution_count": 87,
   "metadata": {
    "collapsed": false
   },
   "outputs": [
    {
     "name": "stderr",
     "output_type": "stream",
     "text": [
      "DEBUG:root:ovo je debug level info\n",
      "INFO:root:ovo je INFO level info\n",
      "WARNING:root:ovo je WARNING level info\n",
      "ERROR:root:ovo je ERROR level info\n",
      "CRITICAL:root:ovo je CRITICAL level info\n"
     ]
    }
   ],
   "source": [
    "logging.debug(\"ovo je debug level info\")\n",
    "logging.info(\"ovo je INFO level info\")\n",
    "logging.warning(\"ovo je WARNING level info\")\n",
    "logging.error(\"ovo je ERROR level info\")\n",
    "logging.critical(\"ovo je CRITICAL level info\")"
   ]
  },
  {
   "cell_type": "code",
   "execution_count": 76,
   "metadata": {
    "collapsed": true
   },
   "outputs": [],
   "source": [
    "def is_in_interval(x, interval):\n",
    "    l, d = interval \n",
    "    if d:\n",
    "        return (l <= x) and (x < d)\n",
    "    else:\n",
    "        return (l <= x)\n",
    "    \n",
    "def make_porezna_func(stope, limiti):\n",
    "    ''' Vraca poreznu funckiju p(x) koja racuna porez za dohodak x. '''\n",
    "\n",
    "    pi_lista= []\n",
    "    last_limit = 0\n",
    "    nul_fja = lambda x:0\n",
    "    last_pi = nul_fja\n",
    "    \n",
    "    i = 0\n",
    "    for s,l in zip(stope, limiti):\n",
    "        \n",
    "        def pi(x, last_limit = last_limit, last_pi = last_pi, s=s):\n",
    "\n",
    "            v = last_pi(last_limit) + s * (x-last_limit)\n",
    "            return v\n",
    "        \n",
    "        #pdb.set_trace\n",
    "        \n",
    "        \n",
    "        last_limit, last_pi = l, pi\n",
    "        pi_lista.append(pi)\n",
    "        \n",
    "        i += 1\n",
    "        \n",
    "    b = list(limiti)\n",
    "    b.insert(0, 0)\n",
    "\n",
    "    intervali = zip(b, b[1:])\n",
    "    print(list(intervali))\n",
    "    \n",
    "    logging.warning(\"Ovo je info\")\n",
    "        \n",
    "    def tmp_func(x, intervali=intervali, pi_lista = pi_lista):\n",
    "        for intvl, p in zip(intervali, pi_lista):\n",
    "            pdb.set_trace()\n",
    "            if is_in_interval (x, intvl):\n",
    "                return p(x)\n",
    "    \n",
    "    return tmp_func"
   ]
  },
  {
   "cell_type": "markdown",
   "metadata": {},
   "source": [
    "#Provjera"
   ]
  },
  {
   "cell_type": "code",
   "execution_count": 77,
   "metadata": {
    "collapsed": true
   },
   "outputs": [],
   "source": [
    "p(100)"
   ]
  },
  {
   "cell_type": "code",
   "execution_count": 78,
   "metadata": {
    "collapsed": false
   },
   "outputs": [
    {
     "name": "stderr",
     "output_type": "stream",
     "text": [
      "WARNING:root:Ovo je info\n"
     ]
    },
    {
     "name": "stdout",
     "output_type": "stream",
     "text": [
      "[(0, 100000), (100000, 200000), (200000, None)]\n"
     ]
    },
    {
     "data": {
      "text/plain": [
       "(False, False, False)"
      ]
     },
     "execution_count": 78,
     "metadata": {},
     "output_type": "execute_result"
    }
   ],
   "source": [
    "p = make_porezna_func(stope, limiti)\n",
    "p(1000) == 100, p(100000) == 10000, p(150000) == 20000"
   ]
  },
  {
   "cell_type": "code",
   "execution_count": 66,
   "metadata": {
    "collapsed": false
   },
   "outputs": [
    {
     "data": {
      "text/plain": [
       "[(1, 4), (2, 5), (3, 6)]"
      ]
     },
     "execution_count": 66,
     "metadata": {},
     "output_type": "execute_result"
    }
   ],
   "source": [
    "list(zip((1,2,3), (4,5,6)))"
   ]
  },
  {
   "cell_type": "code",
   "execution_count": 67,
   "metadata": {
    "collapsed": true
   },
   "outputs": [],
   "source": [
    "p(100)"
   ]
  },
  {
   "cell_type": "code",
   "execution_count": 68,
   "metadata": {
    "collapsed": false
   },
   "outputs": [
    {
     "name": "stdout",
     "output_type": "stream",
     "text": [
      "stopa 0.1 do 100000\n",
      "stopa 0.2 do 200000\n",
      "stopa 0.3 do None\n"
     ]
    }
   ],
   "source": [
    "for s, l in zip(stope, limiti):\n",
    "    print(\"stopa {0} do {1}\".format(s, l))"
   ]
  },
  {
   "cell_type": "code",
   "execution_count": 69,
   "metadata": {
    "collapsed": false
   },
   "outputs": [
    {
     "data": {
      "text/plain": [
       "[0, 10, 20, 30, None]"
      ]
     },
     "execution_count": 69,
     "metadata": {},
     "output_type": "execute_result"
    }
   ],
   "source": [
    "a = (10, 20, 30)\n",
    "b = list(a)\n",
    "b.append(None)\n",
    "b.insert(0, 0)\n",
    "b"
   ]
  },
  {
   "cell_type": "code",
   "execution_count": 70,
   "metadata": {
    "collapsed": false
   },
   "outputs": [
    {
     "data": {
      "text/plain": [
       "[(10, 20), (20, 30)]"
      ]
     },
     "execution_count": 70,
     "metadata": {},
     "output_type": "execute_result"
    }
   ],
   "source": [
    "list(zip ( a, a[1:] ))"
   ]
  },
  {
   "cell_type": "code",
   "execution_count": 71,
   "metadata": {
    "collapsed": false
   },
   "outputs": [
    {
     "data": {
      "text/plain": [
       "True"
      ]
     },
     "execution_count": 71,
     "metadata": {},
     "output_type": "execute_result"
    }
   ],
   "source": [
    "is_in_interval(100, (10, None))"
   ]
  },
  {
   "cell_type": "code",
   "execution_count": null,
   "metadata": {
    "collapsed": true
   },
   "outputs": [],
   "source": []
  }
 ],
 "metadata": {
  "kernelspec": {
   "display_name": "Python 3",
   "language": "python",
   "name": "python3"
  },
  "language_info": {
   "codemirror_mode": {
    "name": "ipython",
    "version": 3
   },
   "file_extension": ".py",
   "mimetype": "text/x-python",
   "name": "python",
   "nbconvert_exporter": "python",
   "pygments_lexer": "ipython3",
   "version": "3.4.3"
  }
 },
 "nbformat": 4,
 "nbformat_minor": 0
}
