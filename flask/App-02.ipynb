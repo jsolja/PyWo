{
 "cells": [
  {
   "cell_type": "code",
   "execution_count": 26,
   "metadata": {
    "collapsed": false
   },
   "outputs": [
    {
     "name": "stdout",
     "output_type": "stream",
     "text": [
      "Overwriting main_1.py\n"
     ]
    }
   ],
   "source": [
    "%%writefile main_1.py\n",
    "\n",
    "from flask import Flask, render_template\n",
    "app = Flask(__name__)\n",
    "\n",
    "@app.route(\"/\")\n",
    "def template_test(greeting):\n",
    "    return render_template('index.html')\n",
    "\n",
    "if __name__ == '__main__':\n",
    "    app.run(debug=True)"
   ]
  },
  {
   "cell_type": "code",
   "execution_count": 27,
   "metadata": {
    "collapsed": false
   },
   "outputs": [
    {
     "name": "stdout",
     "output_type": "stream",
     "text": [
      "Overwriting templates/template.html\n"
     ]
    }
   ],
   "source": [
    "%%writefile templates/template.html\n",
    "\n",
    "<html>\n",
    "    <head>\n",
    "        <title>Flask Template Example </title>\n",
    "    </head>\n",
    "    \n",
    "    <body>\n",
    "    \n",
    "        TEMPLATE\n",
    "        my_string = \n",
    "        {{ my_string }}\n",
    "        \n",
    "    </body>\n",
    "</html>"
   ]
  },
  {
   "cell_type": "code",
   "execution_count": 28,
   "metadata": {
    "collapsed": false
   },
   "outputs": [
    {
     "name": "stdout",
     "output_type": "stream",
     "text": [
      "Overwriting templates/layout.html\n"
     ]
    }
   ],
   "source": [
    "%%writefile templates/layout.html\n",
    "\n",
    "<html>\n",
    "    <head>\n",
    "        <title> {% block title %} TITLE {% endblock %}  </title>\n",
    "    </head>\n",
    "    title, header, menu, content, footer\n",
    "    <body>\n",
    "        <div id = \"title\">\n",
    "        {% block content %}\n",
    "        \n",
    "            TITLE BLOCK\n",
    "            \n",
    "        {% endblock % }\n",
    "        </div>\n",
    "        \n",
    "        <div id = \"header\">\n",
    "        {% block content %}\n",
    "        \n",
    "            HEADER BLOCK\n",
    "            \n",
    "        {% endblock % }\n",
    "        </div>\n",
    "        \n",
    "        <div id = \"content\">\n",
    "        {% block content %}\n",
    "        \n",
    "            CONTENT BLOCK\n",
    "            \n",
    "        {% endblock % }\n",
    "        </div>\n",
    "        \n",
    "        <div id = \"footer\">\n",
    "        {% block content %}\n",
    "        \n",
    "            FOOTER BLOCK\n",
    "            \n",
    "        {% endblock % }\n",
    "        </div>\n",
    "        \n",
    "    </body>\n",
    "</html>"
   ]
  },
  {
   "cell_type": "code",
   "execution_count": 29,
   "metadata": {
    "collapsed": false
   },
   "outputs": [
    {
     "name": "stdout",
     "output_type": "stream",
     "text": [
      "Overwriting templates/index.html\n"
     ]
    }
   ],
   "source": [
    "%%writefile templates/index.html\n",
    "\n",
    "{% extends \"base.html\" %}\n",
    "\n",
    "{% block title %} Pravi TITLE, a ne onaj iz Layouta {% endblock %}\n",
    "\n",
    "{% block menu %} {% endblock %}\n",
    "{% block title %} {% endblock %}\n",
    "{% block title %} {% endblock %}\n",
    "{% block title %} {% endblock %}\n"
   ]
  },
  {
   "cell_type": "code",
   "execution_count": null,
   "metadata": {
    "collapsed": true
   },
   "outputs": [],
   "source": []
  }
 ],
 "metadata": {
  "kernelspec": {
   "display_name": "Python 3",
   "language": "python",
   "name": "python3"
  },
  "language_info": {
   "codemirror_mode": {
    "name": "ipython",
    "version": 3
   },
   "file_extension": ".py",
   "mimetype": "text/x-python",
   "name": "python",
   "nbconvert_exporter": "python",
   "pygments_lexer": "ipython3",
   "version": "3.4.3"
  }
 },
 "nbformat": 4,
 "nbformat_minor": 0
}
