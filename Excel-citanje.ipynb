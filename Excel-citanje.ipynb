{
 "cells": [
  {
   "cell_type": "code",
   "execution_count": 71,
   "metadata": {
    "collapsed": true
   },
   "outputs": [],
   "source": [
    "filename = \"../../03/pywo_some_data.xlsx\""
   ]
  },
  {
   "cell_type": "markdown",
   "metadata": {},
   "source": [
    "**Zadatak**\n",
    "\n",
    "a)Otvoriti ovaj excel file i procitati prvi stupac.\n",
    "\n",
    "Za to nam treba modul ```xlrd```.\n",
    "\n",
    "b) Srediti polja (razdvojiti ime i prezime)\n",
    "\n",
    "c) Sortirali na 2 nacina\n",
    "\n",
    "d) DZ, zavjezbu izbaciti \",\" pomocu ```re```"
   ]
  },
  {
   "cell_type": "code",
   "execution_count": 72,
   "metadata": {
    "collapsed": false
   },
   "outputs": [],
   "source": [
    "import xlrd"
   ]
  },
  {
   "cell_type": "code",
   "execution_count": 73,
   "metadata": {
    "collapsed": false
   },
   "outputs": [
    {
     "name": "stdout",
     "output_type": "stream",
     "text": [
      "(0) empty \n",
      "(1) text Josip Mlakar, \n",
      "(2) text Elvis Popović, \n",
      "(3) text Vladimir Milašinović, \n",
      "(4) text Filip Rafajec, \n",
      "(5) text Matej Gucek, \n",
      "(6) text Jura Šolja, \n",
      "(7) text Gabrijela Grgača, \n",
      "(8) text Stjepan Rakarec, \n",
      "(9) text Davorin Špičko, \n",
      "(10) text Milan Pavlović, \n",
      "(11) text Senko Pušec, \n",
      "(12) text Filip Aleksić, \n",
      "(13) text Roman Tomašković, \n",
      "(14) text Peđa Čačić, \n",
      "(15) text Saša Poslončec,\n",
      "(16) text Mislav Zebić, \n",
      "(17) text Ian Žonja,\n",
      "(18) text Tomislav Cundić, \n",
      "(19) text Matija Kaniški,\n",
      "(20) text Petar Šestak,\n",
      "(21) text Ivana Završki,\n",
      "(22) text Vedran Vađunec, \n",
      "(23) text Matea Bodulušić, \n",
      "(24) text Andrea Danzante,\n"
     ]
    }
   ],
   "source": [
    "wb = xlrd.open_workbook(\"../../03/pywo_some_data.xlsx\")\n",
    "sheetname = wb.sheet_names() \n",
    "xl_sheet = wb.sheet_by_name(sheetname[0])\n",
    "xl_sheet = wb.sheet_by_index(0)\n",
    "\n",
    "row = xl_sheet.row(0)\n",
    "col = xl_sheet.col(0)\n",
    "\n",
    "from xlrd.sheet import ctype_text   \n",
    "\n",
    "for idx, cell_obj in enumerate(col):\n",
    "    cell_type_str = ctype_text.get(cell_obj.ctype, 'unknown type')\n",
    "    print('(%s) %s %s' % (idx, cell_type_str, cell_obj.value))"
   ]
  },
  {
   "cell_type": "code",
   "execution_count": 74,
   "metadata": {
    "collapsed": false
   },
   "outputs": [
    {
     "data": {
      "text/plain": [
       "[empty:'',\n",
       " text:'Josip Mlakar, ',\n",
       " text:'Elvis Popović, ',\n",
       " text:'Vladimir Milašinović, ',\n",
       " text:'Filip Rafajec, ',\n",
       " text:'Matej Gucek, ',\n",
       " text:'Jura Šolja, ',\n",
       " text:'Gabrijela Grgača, ',\n",
       " text:'Stjepan Rakarec, ',\n",
       " text:'Davorin Špičko, ',\n",
       " text:'Milan Pavlović, ',\n",
       " text:'Senko Pušec, ',\n",
       " text:'Filip Aleksić, ',\n",
       " text:'Roman Tomašković, ',\n",
       " text:'Peđa Čačić, ',\n",
       " text:'Saša Poslončec,',\n",
       " text:'Mislav Zebić, ',\n",
       " text:'Ian Žonja,',\n",
       " text:'Tomislav Cundić, ',\n",
       " text:'Matija Kaniški,',\n",
       " text:'Petar Šestak,',\n",
       " text:'Ivana Završki,',\n",
       " text:'Vedran Vađunec, ',\n",
       " text:'Matea Bodulušić, ',\n",
       " text:'Andrea Danzante,']"
      ]
     },
     "execution_count": 74,
     "metadata": {},
     "output_type": "execute_result"
    }
   ],
   "source": [
    "wb = xlrd.open_workbook(\"../../03/pywo_some_data.xlsx\")\n",
    "\n",
    "sheet = wb.sheet_by_index(0)\n",
    "sheet.col(0)\n"
   ]
  },
  {
   "cell_type": "code",
   "execution_count": 75,
   "metadata": {
    "collapsed": false
   },
   "outputs": [
    {
     "data": {
      "text/plain": [
       "['',\n",
       " 'Josip Mlakar, ',\n",
       " 'Elvis Popović, ',\n",
       " 'Vladimir Milašinović, ',\n",
       " 'Filip Rafajec, ',\n",
       " 'Matej Gucek, ',\n",
       " 'Jura Šolja, ',\n",
       " 'Gabrijela Grgača, ',\n",
       " 'Stjepan Rakarec, ',\n",
       " 'Davorin Špičko, ',\n",
       " 'Milan Pavlović, ',\n",
       " 'Senko Pušec, ',\n",
       " 'Filip Aleksić, ',\n",
       " 'Roman Tomašković, ',\n",
       " 'Peđa Čačić, ',\n",
       " 'Saša Poslončec,',\n",
       " 'Mislav Zebić, ',\n",
       " 'Ian Žonja,',\n",
       " 'Tomislav Cundić, ',\n",
       " 'Matija Kaniški,',\n",
       " 'Petar Šestak,',\n",
       " 'Ivana Završki,',\n",
       " 'Vedran Vađunec, ',\n",
       " 'Matea Bodulušić, ',\n",
       " 'Andrea Danzante,']"
      ]
     },
     "execution_count": 75,
     "metadata": {},
     "output_type": "execute_result"
    }
   ],
   "source": [
    "L = [student.value for student in sheet.col(0)]\n",
    "L"
   ]
  },
  {
   "cell_type": "code",
   "execution_count": 76,
   "metadata": {
    "collapsed": false
   },
   "outputs": [
    {
     "data": {
      "text/plain": [
       "['Josip Mlakar, ',\n",
       " 'Elvis Popović, ',\n",
       " 'Vladimir Milašinović, ',\n",
       " 'Filip Rafajec, ',\n",
       " 'Matej Gucek, ',\n",
       " 'Jura Šolja, ',\n",
       " 'Gabrijela Grgača, ',\n",
       " 'Stjepan Rakarec, ',\n",
       " 'Davorin Špičko, ',\n",
       " 'Milan Pavlović, ',\n",
       " 'Senko Pušec, ',\n",
       " 'Filip Aleksić, ',\n",
       " 'Roman Tomašković, ',\n",
       " 'Peđa Čačić, ',\n",
       " 'Saša Poslončec,',\n",
       " 'Mislav Zebić, ',\n",
       " 'Ian Žonja,',\n",
       " 'Tomislav Cundić, ',\n",
       " 'Matija Kaniški,',\n",
       " 'Petar Šestak,',\n",
       " 'Ivana Završki,',\n",
       " 'Vedran Vađunec, ',\n",
       " 'Matea Bodulušić, ',\n",
       " 'Andrea Danzante,']"
      ]
     },
     "execution_count": 76,
     "metadata": {},
     "output_type": "execute_result"
    }
   ],
   "source": [
    "M = [ x for x in L if x != '']\n",
    "M"
   ]
  },
  {
   "cell_type": "markdown",
   "metadata": {},
   "source": [
    "Sredimo ovu listu u format \"prezime ime\". \n",
    "\n",
    "Zatim treba sortirati."
   ]
  },
  {
   "cell_type": "code",
   "execution_count": 77,
   "metadata": {
    "collapsed": true
   },
   "outputs": [],
   "source": [
    "ime = 'Josip Mlakar, '"
   ]
  },
  {
   "cell_type": "code",
   "execution_count": 78,
   "metadata": {
    "collapsed": true
   },
   "outputs": [],
   "source": [
    "def sredi(ime):\n",
    "    v = ime.strip()\n",
    "    listica = v.split()\n",
    "    \n",
    "    return listica[::-1]"
   ]
  },
  {
   "cell_type": "code",
   "execution_count": 79,
   "metadata": {
    "collapsed": false
   },
   "outputs": [
    {
     "data": {
      "text/plain": [
       "['Mlakar,', 'Josip']"
      ]
     },
     "execution_count": 79,
     "metadata": {},
     "output_type": "execute_result"
    }
   ],
   "source": [
    "sredi(ime)"
   ]
  },
  {
   "cell_type": "code",
   "execution_count": 80,
   "metadata": {
    "collapsed": false
   },
   "outputs": [],
   "source": [
    "P = [ sredi(ime) for ime in M ]"
   ]
  },
  {
   "cell_type": "code",
   "execution_count": 81,
   "metadata": {
    "collapsed": false,
    "scrolled": false
   },
   "outputs": [
    {
     "data": {
      "text/plain": [
       "[['Danzante,', 'Andrea'],\n",
       " ['Špičko,', 'Davorin'],\n",
       " ['Popović,', 'Elvis'],\n",
       " ['Rafajec,', 'Filip'],\n",
       " ['Aleksić,', 'Filip'],\n",
       " ['Grgača,', 'Gabrijela'],\n",
       " ['Žonja,', 'Ian'],\n",
       " ['Završki,', 'Ivana'],\n",
       " ['Mlakar,', 'Josip'],\n",
       " ['Šolja,', 'Jura'],\n",
       " ['Bodulušić,', 'Matea'],\n",
       " ['Gucek,', 'Matej'],\n",
       " ['Kaniški,', 'Matija'],\n",
       " ['Pavlović,', 'Milan'],\n",
       " ['Zebić,', 'Mislav'],\n",
       " ['Šestak,', 'Petar'],\n",
       " ['Čačić,', 'Peđa'],\n",
       " ['Tomašković,', 'Roman'],\n",
       " ['Poslončec,', 'Saša'],\n",
       " ['Pušec,', 'Senko'],\n",
       " ['Rakarec,', 'Stjepan'],\n",
       " ['Cundić,', 'Tomislav'],\n",
       " ['Vađunec,', 'Vedran'],\n",
       " ['Milašinović,', 'Vladimir']]"
      ]
     },
     "execution_count": 81,
     "metadata": {},
     "output_type": "execute_result"
    }
   ],
   "source": [
    "fja_usporedbe = lambda x:x[1]\n",
    "sorted(P, key = lambda x:x[1])"
   ]
  },
  {
   "cell_type": "code",
   "execution_count": 82,
   "metadata": {
    "collapsed": true
   },
   "outputs": [],
   "source": [
    "sorted?"
   ]
  },
  {
   "cell_type": "code",
   "execution_count": 83,
   "metadata": {
    "collapsed": false
   },
   "outputs": [],
   "source": [
    "lambda x:x[1]\n",
    "\n",
    "def f(x):\n",
    "    return x[1]"
   ]
  },
  {
   "cell_type": "code",
   "execution_count": 84,
   "metadata": {
    "collapsed": true
   },
   "outputs": [],
   "source": [
    "import re"
   ]
  },
  {
   "cell_type": "code",
   "execution_count": 94,
   "metadata": {
    "collapsed": true
   },
   "outputs": [],
   "source": [
    "!git add *.ipynb"
   ]
  },
  {
   "cell_type": "code",
   "execution_count": 95,
   "metadata": {
    "collapsed": false
   },
   "outputs": [
    {
     "name": "stdout",
     "output_type": "stream",
     "text": [
      "[master da1f528] Notebook za citanje excela\r\n",
      " 1 file changed, 384 insertions(+)\r\n",
      " create mode 100644 zadaci/my/jura_solja/Excel-citanje.ipynb\r\n"
     ]
    }
   ],
   "source": [
    "!git commit -a -m \"Notebook za citanje excela\""
   ]
  },
  {
   "cell_type": "code",
   "execution_count": null,
   "metadata": {
    "collapsed": false
   },
   "outputs": [
    {
     "name": "stdout",
     "output_type": "stream",
     "text": [
      "remote: Counting objects: 12, done.\u001b[K\n",
      "remote: Compressing objects: 100% (6/6), done.\u001b[K\n",
      "remote: Total 12 (delta 6), reused 12 (delta 6), pack-reused 0\u001b[K\n",
      "Unpacking objects: 100% (12/12), done.\n",
      "From https://github.com/marcelix/pywo-zadaci\n",
      "   2ff5d52..df4b455  master     -> origin/master\n",
      "\u001b[46A"
     ]
    }
   ],
   "source": [
    "!git pull"
   ]
  },
  {
   "cell_type": "code",
   "execution_count": null,
   "metadata": {
    "collapsed": true
   },
   "outputs": [],
   "source": [
    "!git pull origin master"
   ]
  },
  {
   "cell_type": "code",
   "execution_count": null,
   "metadata": {
    "collapsed": true
   },
   "outputs": [],
   "source": [
    "!ls -a"
   ]
  },
  {
   "cell_type": "code",
   "execution_count": 22,
   "metadata": {
    "collapsed": false
   },
   "outputs": [],
   "source": [
    "import xlwt\n",
    "import re"
   ]
  },
  {
   "cell_type": "code",
   "execution_count": 85,
   "metadata": {
    "collapsed": false
   },
   "outputs": [],
   "source": [
    "wb = xlwt.Workbook()\n",
    "sheet = wb.add_sheet(\"2.2 Excel zapis\")"
   ]
  },
  {
   "cell_type": "code",
   "execution_count": 87,
   "metadata": {
    "collapsed": false
   },
   "outputs": [
    {
     "data": {
      "text/plain": [
       "str"
      ]
     },
     "execution_count": 87,
     "metadata": {},
     "output_type": "execute_result"
    }
   ],
   "source": [
    "type(P[0][0])"
   ]
  },
  {
   "cell_type": "code",
   "execution_count": 93,
   "metadata": {
    "collapsed": true
   },
   "outputs": [
    {
     "ename": "TypeError",
     "evalue": "unhashable type: 'list'",
     "output_type": "error",
     "traceback": [
      "\u001b[1;31m---------------------------------------------------------------------------\u001b[0m",
      "\u001b[1;31mTypeError\u001b[0m                                 Traceback (most recent call last)",
      "\u001b[1;32m<ipython-input-93-739601f5e80e>\u001b[0m in \u001b[0;36m<module>\u001b[1;34m()\u001b[0m\n\u001b[0;32m      1\u001b[0m \u001b[1;32mfor\u001b[0m \u001b[0mred\u001b[0m \u001b[1;32min\u001b[0m \u001b[0mP\u001b[0m\u001b[1;33m:\u001b[0m\u001b[1;33m\u001b[0m\u001b[0m\n\u001b[0;32m      2\u001b[0m     \u001b[1;32mfor\u001b[0m \u001b[0melem\u001b[0m \u001b[1;32min\u001b[0m \u001b[0mred\u001b[0m\u001b[1;33m:\u001b[0m\u001b[1;33m\u001b[0m\u001b[0m\n\u001b[1;32m----> 3\u001b[1;33m         \u001b[0msheet\u001b[0m\u001b[1;33m.\u001b[0m\u001b[0mwrite\u001b[0m\u001b[1;33m(\u001b[0m\u001b[0mred\u001b[0m\u001b[1;33m,\u001b[0m \u001b[0melem\u001b[0m\u001b[1;33m,\u001b[0m \u001b[0melem\u001b[0m\u001b[1;33m)\u001b[0m\u001b[1;33m\u001b[0m\u001b[0m\n\u001b[0m",
      "\u001b[1;32m/home/jursolja/.virtualenvs/pywo3/lib/python3.4/site-packages/xlwt/Worksheet.py\u001b[0m in \u001b[0;36mwrite\u001b[1;34m(self, r, c, label, style)\u001b[0m\n\u001b[0;32m   1086\u001b[0m            \u001b[1;33m:\u001b[0m\u001b[1;32mclass\u001b[0m\u001b[1;33m:\u001b[0m\u001b[0;31m`\u001b[0m\u001b[1;33m~\u001b[0m\u001b[0mxlwt\u001b[0m\u001b[1;33m.\u001b[0m\u001b[0mStyle\u001b[0m\u001b[1;33m.\u001b[0m\u001b[0mXFStyle\u001b[0m\u001b[0;31m`\u001b[0m \u001b[0mobject\u001b[0m\u001b[1;33m.\u001b[0m\u001b[1;33m\u001b[0m\u001b[0m\n\u001b[0;32m   1087\u001b[0m         \"\"\"\n\u001b[1;32m-> 1088\u001b[1;33m         \u001b[0mself\u001b[0m\u001b[1;33m.\u001b[0m\u001b[0mrow\u001b[0m\u001b[1;33m(\u001b[0m\u001b[0mr\u001b[0m\u001b[1;33m)\u001b[0m\u001b[1;33m.\u001b[0m\u001b[0mwrite\u001b[0m\u001b[1;33m(\u001b[0m\u001b[0mc\u001b[0m\u001b[1;33m,\u001b[0m \u001b[0mlabel\u001b[0m\u001b[1;33m,\u001b[0m \u001b[0mstyle\u001b[0m\u001b[1;33m)\u001b[0m\u001b[1;33m\u001b[0m\u001b[0m\n\u001b[0m\u001b[0;32m   1089\u001b[0m \u001b[1;33m\u001b[0m\u001b[0m\n\u001b[0;32m   1090\u001b[0m     \u001b[1;32mdef\u001b[0m \u001b[0mwrite_rich_text\u001b[0m\u001b[1;33m(\u001b[0m\u001b[0mself\u001b[0m\u001b[1;33m,\u001b[0m \u001b[0mr\u001b[0m\u001b[1;33m,\u001b[0m \u001b[0mc\u001b[0m\u001b[1;33m,\u001b[0m \u001b[0mrich_text_list\u001b[0m\u001b[1;33m,\u001b[0m \u001b[0mstyle\u001b[0m\u001b[1;33m=\u001b[0m\u001b[0mStyle\u001b[0m\u001b[1;33m.\u001b[0m\u001b[0mdefault_style\u001b[0m\u001b[1;33m)\u001b[0m\u001b[1;33m:\u001b[0m\u001b[1;33m\u001b[0m\u001b[0m\n",
      "\u001b[1;32m/home/jursolja/.virtualenvs/pywo3/lib/python3.4/site-packages/xlwt/Worksheet.py\u001b[0m in \u001b[0;36mrow\u001b[1;34m(self, indx)\u001b[0m\n\u001b[0;32m   1131\u001b[0m \u001b[1;33m\u001b[0m\u001b[0m\n\u001b[0;32m   1132\u001b[0m     \u001b[1;32mdef\u001b[0m \u001b[0mrow\u001b[0m\u001b[1;33m(\u001b[0m\u001b[0mself\u001b[0m\u001b[1;33m,\u001b[0m \u001b[0mindx\u001b[0m\u001b[1;33m)\u001b[0m\u001b[1;33m:\u001b[0m\u001b[1;33m\u001b[0m\u001b[0m\n\u001b[1;32m-> 1133\u001b[1;33m         \u001b[1;32mif\u001b[0m \u001b[0mindx\u001b[0m \u001b[1;32mnot\u001b[0m \u001b[1;32min\u001b[0m \u001b[0mself\u001b[0m\u001b[1;33m.\u001b[0m\u001b[0m__rows\u001b[0m\u001b[1;33m:\u001b[0m\u001b[1;33m\u001b[0m\u001b[0m\n\u001b[0m\u001b[0;32m   1134\u001b[0m             \u001b[1;32mif\u001b[0m \u001b[0mindx\u001b[0m \u001b[1;32min\u001b[0m \u001b[0mself\u001b[0m\u001b[1;33m.\u001b[0m\u001b[0m__flushed_rows\u001b[0m\u001b[1;33m:\u001b[0m\u001b[1;33m\u001b[0m\u001b[0m\n\u001b[0;32m   1135\u001b[0m                 \u001b[1;32mraise\u001b[0m \u001b[0mException\u001b[0m\u001b[1;33m(\u001b[0m\u001b[1;34m\"Attempt to reuse row index %d of sheet %r after flushing\"\u001b[0m \u001b[1;33m%\u001b[0m \u001b[1;33m(\u001b[0m\u001b[0mindx\u001b[0m\u001b[1;33m,\u001b[0m \u001b[0mself\u001b[0m\u001b[1;33m.\u001b[0m\u001b[0m__name\u001b[0m\u001b[1;33m)\u001b[0m\u001b[1;33m)\u001b[0m\u001b[1;33m\u001b[0m\u001b[0m\n",
      "\u001b[1;31mTypeError\u001b[0m: unhashable type: 'list'"
     ]
    }
   ],
   "source": [
    "for red in P:\n",
    "    for elem in red:\n",
    "        sheet.write(red, elem, elem)"
   ]
  },
  {
   "cell_type": "code",
   "execution_count": null,
   "metadata": {
    "collapsed": true
   },
   "outputs": [],
   "source": []
  }
 ],
 "metadata": {
  "kernelspec": {
   "display_name": "Python 3",
   "language": "python",
   "name": "python3"
  },
  "language_info": {
   "codemirror_mode": {
    "name": "ipython",
    "version": 3
   },
   "file_extension": ".py",
   "mimetype": "text/x-python",
   "name": "python",
   "nbconvert_exporter": "python",
   "pygments_lexer": "ipython3",
   "version": "3.4.3"
  }
 },
 "nbformat": 4,
 "nbformat_minor": 0
}
