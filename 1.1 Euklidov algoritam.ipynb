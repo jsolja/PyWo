{
 "cells": [
  {
   "cell_type": "code",
   "execution_count": 6,
   "metadata": {
    "collapsed": true
   },
   "outputs": [],
   "source": [
    "def rem_g(x, y):\n",
    "    pom = 0\n",
    "    yield x\n",
    "    yield y\n",
    "    \n",
    "    while(x % y):\n",
    "        pom = x % y\n",
    "        x = y\n",
    "        y = pom\n",
    "        yield y"
   ]
  },
  {
   "cell_type": "code",
   "execution_count": 18,
   "metadata": {
    "collapsed": false
   },
   "outputs": [],
   "source": [
    "def quo_g(x, y):\n",
    "    while(x % y):\n",
    "        umn = 1\n",
    "        for i in range (1, y+1):\n",
    "            umn = y * i\n",
    "            if(umn >= x):\n",
    "                yield i-1\n",
    "                break\n",
    "        pom = x % y\n",
    "        x = y\n",
    "        y = pom\n",
    "    \n",
    "    for i in range (1, y+2):\n",
    "        umn = y * i\n",
    "        if(umn >= x):\n",
    "            yield i-1\n",
    "            break"
   ]
  },
  {
   "cell_type": "code",
   "execution_count": 22,
   "metadata": {
    "collapsed": true
   },
   "outputs": [
    {
     "name": "stdout",
     "output_type": "stream",
     "text": [
      "Unesi 1. broj: 112\n",
      "Unesi 2. broj: 13\n",
      "112\n",
      "13\n",
      "8\n",
      "5\n",
      "3\n",
      "2\n",
      "1\n",
      "8\n",
      "1\n",
      "1\n",
      "1\n",
      "1\n",
      "1\n"
     ]
    }
   ],
   "source": [
    "x = int(input(\"Unesi 1. broj: \"))\n",
    "y = int(input(\"Unesi 2. broj: \"))\n",
    "\n",
    "euk_o = rem_g(x, y)\n",
    "euk_d = quo_g(x, y)\n",
    "\n",
    "for i in euk_o:\n",
    "    print(i)\n",
    "    \n",
    "for i in euk_d:\n",
    "    print(i)"
   ]
  },
  {
   "cell_type": "code",
   "execution_count": 23,
   "metadata": {
    "collapsed": false
   },
   "outputs": [
    {
     "data": {
      "text/plain": [
       "True"
      ]
     },
     "execution_count": 23,
     "metadata": {},
     "output_type": "execute_result"
    }
   ],
   "source": [
    "list(rem_g(112,13)) == [112, 13, 8, 5, 3, 2, 1]"
   ]
  },
  {
   "cell_type": "code",
   "execution_count": 24,
   "metadata": {
    "collapsed": false
   },
   "outputs": [
    {
     "data": {
      "text/plain": [
       "True"
      ]
     },
     "execution_count": 24,
     "metadata": {},
     "output_type": "execute_result"
    }
   ],
   "source": [
    "list(quo_g(112,13)) == [8, 1, 1, 1, 1, 1]"
   ]
  },
  {
   "cell_type": "code",
   "execution_count": null,
   "metadata": {
    "collapsed": true
   },
   "outputs": [],
   "source": []
  }
 ],
 "metadata": {
  "kernelspec": {
   "display_name": "Python 3",
   "language": "python",
   "name": "python3"
  },
  "language_info": {
   "codemirror_mode": {
    "name": "ipython",
    "version": 3
   },
   "file_extension": ".py",
   "mimetype": "text/x-python",
   "name": "python",
   "nbconvert_exporter": "python",
   "pygments_lexer": "ipython3",
   "version": "3.4.3"
  }
 },
 "nbformat": 4,
 "nbformat_minor": 0
}
