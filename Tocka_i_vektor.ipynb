{
 "cells": [
  {
   "cell_type": "code",
   "execution_count": 39,
   "metadata": {
    "collapsed": false
   },
   "outputs": [],
   "source": [
    "#%%writefile rr.py\n",
    "\n",
    "__author__ = \"Jura Šolja\"\n",
    "__email__ = \"jursolja@foi.hr\"\n",
    "\n",
    "from math import sqrt\n",
    "import argparse\n",
    "\n",
    "class Tocka:\n",
    "    \"\"\"\n",
    "        Opis ove klase.\n",
    "        2-dim tocke u ravnini.\n",
    "    \"\"\"\n",
    "    \n",
    "    def __init__(self, x, y):\n",
    "        self.x = x\n",
    "        self.y = y\n",
    "        pass\n",
    "    \n",
    "    def norm(self):\n",
    "        return sqrt(self.x**2 + self.y**2)\n",
    "            \n",
    "    def __repr__(self):\n",
    "        return \"Tocka({0}, {1})\".format(self.x,self.y)\n",
    "    \n",
    "class Vektor(Tocka):\n",
    "    \n",
    "    def __add__(self, b):\n",
    "        \"\"\"\n",
    "        Self je vektor, b je vektor.\n",
    "        \"\"\"\n",
    "        x = self.x + b.x\n",
    "        y = self.y + b.y\n",
    "        return Vektor(x, y)\n",
    "    \n",
    "    def __sub__(self, b):\n",
    "        x = self.x - b.x\n",
    "        y = self.y - b.y\n",
    "        return Vektor(x, y)\n",
    "    \n",
    "    def norm(self):\n",
    "        return sqrt(self.x**2 + self.y**2)\n",
    "    \n",
    "    def __repr__(self):\n",
    "        return \"Tocka({0}, {1})\".format(self.x,self.y)"
   ]
  },
  {
   "cell_type": "code",
   "execution_count": 40,
   "metadata": {
    "collapsed": false,
    "scrolled": true
   },
   "outputs": [],
   "source": [
    "a = Vektor(1,2)\n",
    "b = Vektor(-12,34)\n",
    "c = Vektor(34,-13)"
   ]
  },
  {
   "cell_type": "code",
   "execution_count": null,
   "metadata": {
    "collapsed": true
   },
   "outputs": [],
   "source": []
  }
 ],
 "metadata": {
  "kernelspec": {
   "display_name": "Python 3",
   "language": "python",
   "name": "python3"
  },
  "language_info": {
   "codemirror_mode": {
    "name": "ipython",
    "version": 3
   },
   "file_extension": ".py",
   "mimetype": "text/x-python",
   "name": "python",
   "nbconvert_exporter": "python",
   "pygments_lexer": "ipython3",
   "version": "3.4.3"
  }
 },
 "nbformat": 4,
 "nbformat_minor": 0
}
